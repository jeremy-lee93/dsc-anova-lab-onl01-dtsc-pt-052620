{
 "cells": [
  {
   "cell_type": "markdown",
   "metadata": {},
   "source": [
    "# ANOVA  - Lab\n",
    "\n",
    "## Introduction\n",
    "\n",
    "In this lab, you'll get some brief practice generating an ANOVA table (AOV) and interpreting its output. You'll also perform some investigations to compare the method to the t-tests you previously employed to conduct hypothesis testing.\n",
    "\n",
    "## Objectives\n",
    "\n",
    "In this lab you will: \n",
    "\n",
    "- Use ANOVA for testing multiple pairwise comparisons \n",
    "- Interpret results of an ANOVA and compare them to a t-test"
   ]
  },
  {
   "cell_type": "markdown",
   "metadata": {},
   "source": [
    "## Load the data\n",
    "\n",
    "Start by loading in the data stored in the file `'ToothGrowth.csv'`: "
   ]
  },
  {
   "cell_type": "code",
   "execution_count": 5,
   "metadata": {
    "ExecuteTime": {
     "end_time": "2020-08-07T02:47:17.394032Z",
     "start_time": "2020-08-07T02:47:17.364816Z"
    }
   },
   "outputs": [
    {
     "data": {
      "text/html": [
       "<div>\n",
       "<style scoped>\n",
       "    .dataframe tbody tr th:only-of-type {\n",
       "        vertical-align: middle;\n",
       "    }\n",
       "\n",
       "    .dataframe tbody tr th {\n",
       "        vertical-align: top;\n",
       "    }\n",
       "\n",
       "    .dataframe thead th {\n",
       "        text-align: right;\n",
       "    }\n",
       "</style>\n",
       "<table border=\"1\" class=\"dataframe\">\n",
       "  <thead>\n",
       "    <tr style=\"text-align: right;\">\n",
       "      <th></th>\n",
       "      <th>len</th>\n",
       "      <th>supp</th>\n",
       "      <th>dose</th>\n",
       "    </tr>\n",
       "  </thead>\n",
       "  <tbody>\n",
       "    <tr>\n",
       "      <td>0</td>\n",
       "      <td>4.2</td>\n",
       "      <td>VC</td>\n",
       "      <td>0.5</td>\n",
       "    </tr>\n",
       "    <tr>\n",
       "      <td>1</td>\n",
       "      <td>11.5</td>\n",
       "      <td>VC</td>\n",
       "      <td>0.5</td>\n",
       "    </tr>\n",
       "    <tr>\n",
       "      <td>2</td>\n",
       "      <td>7.3</td>\n",
       "      <td>VC</td>\n",
       "      <td>0.5</td>\n",
       "    </tr>\n",
       "    <tr>\n",
       "      <td>3</td>\n",
       "      <td>5.8</td>\n",
       "      <td>VC</td>\n",
       "      <td>0.5</td>\n",
       "    </tr>\n",
       "    <tr>\n",
       "      <td>4</td>\n",
       "      <td>6.4</td>\n",
       "      <td>VC</td>\n",
       "      <td>0.5</td>\n",
       "    </tr>\n",
       "  </tbody>\n",
       "</table>\n",
       "</div>"
      ],
      "text/plain": [
       "    len supp  dose\n",
       "0   4.2   VC   0.5\n",
       "1  11.5   VC   0.5\n",
       "2   7.3   VC   0.5\n",
       "3   5.8   VC   0.5\n",
       "4   6.4   VC   0.5"
      ]
     },
     "execution_count": 5,
     "metadata": {},
     "output_type": "execute_result"
    }
   ],
   "source": [
    "# Your code here\n",
    "import pandas as pd\n",
    "import numpy as np\n",
    "import scipy.stats as stats\n",
    "import statsmodels.api as sm\n",
    "from statsmodels.formula.api import ols\n",
    "\n",
    "df = pd.read_csv('ToothGrowth.csv')\n",
    "df.head()"
   ]
  },
  {
   "cell_type": "markdown",
   "metadata": {},
   "source": [
    "## Generate the ANOVA table\n",
    "\n",
    "Now generate an ANOVA table in order to analyze the influence of the medication and dosage:  "
   ]
  },
  {
   "cell_type": "code",
   "execution_count": 6,
   "metadata": {
    "ExecuteTime": {
     "end_time": "2020-08-07T02:51:53.194380Z",
     "start_time": "2020-08-07T02:51:53.040170Z"
    }
   },
   "outputs": [
    {
     "name": "stdout",
     "output_type": "stream",
     "text": [
      "               sum_sq    df           F        PR(>F)\n",
      "C(supp)    205.350000   1.0   11.446768  1.300662e-03\n",
      "dose      2224.304298   1.0  123.988774  6.313519e-16\n",
      "Residual  1022.555036  57.0         NaN           NaN\n"
     ]
    }
   ],
   "source": [
    "# Your code here\n",
    "#Control_Column ~ C(factor_col1) + factor_col2 + C(factor_col3) + ... + X\n",
    "formula = 'len ~ C(supp) + dose'\n",
    "lm = ols(formula, df).fit()\n",
    "table = sm.stats.anova_lm(lm, typ=2)\n",
    "print(table)"
   ]
  },
  {
   "cell_type": "markdown",
   "metadata": {},
   "source": [
    "## Interpret the output\n",
    "\n",
    "Make a brief comment regarding the statistics and the effect of supplement and dosage on tooth length: "
   ]
  },
  {
   "cell_type": "code",
   "execution_count": null,
   "metadata": {},
   "outputs": [],
   "source": [
    "# Your comment here\n",
    "#Both dosage and and the supplement are likely to have an impact on tooth length. Dosage is likely\n",
    "#to have the strongest effect."
   ]
  },
  {
   "cell_type": "markdown",
   "metadata": {},
   "source": [
    "## Compare to t-tests\n",
    "\n",
    "Now that you've had a chance to generate an ANOVA table, its interesting to compare the results to those from the t-tests you were working with earlier. With that, start by breaking the data into two samples: those given the OJ supplement, and those given the VC supplement. Afterward, you'll conduct a t-test to compare the tooth length of these two different samples: "
   ]
  },
  {
   "cell_type": "code",
   "execution_count": 14,
   "metadata": {
    "ExecuteTime": {
     "end_time": "2020-08-07T03:06:51.641489Z",
     "start_time": "2020-08-07T03:06:51.631751Z"
    }
   },
   "outputs": [],
   "source": [
    "# Your code here\n",
    "df_oj = df.loc[df.supp == 'OJ']\n",
    "df_vc = df.loc[df.supp == 'VC']\n",
    "from flatiron_stats import welch_t, welch_df, p_value_welch_ttest"
   ]
  },
  {
   "cell_type": "markdown",
   "metadata": {},
   "source": [
    "Now run a t-test between these two groups and print the associated two-sided p-value: "
   ]
  },
  {
   "cell_type": "code",
   "execution_count": 16,
   "metadata": {
    "ExecuteTime": {
     "end_time": "2020-08-07T03:08:24.186726Z",
     "start_time": "2020-08-07T03:08:24.178408Z"
    }
   },
   "outputs": [
    {
     "name": "stdout",
     "output_type": "stream",
     "text": [
      "0.06063450788093383\n"
     ]
    }
   ],
   "source": [
    "# Calculate the 2-sided p-value for a t-test comparing the two supplement groups\n",
    "result = p_value_welch_ttest(df_oj.len, df_vc.len, two_sided=True)\n",
    "print(result)"
   ]
  },
  {
   "cell_type": "markdown",
   "metadata": {},
   "source": [
    "## A 2-Category ANOVA F-test is equivalent to a 2-tailed t-test!\n",
    "\n",
    "Now, recalculate an ANOVA F-test with only the supplement variable. An ANOVA F-test between two categories is the same as performing a 2-tailed t-test! So, the p-value in the table should be identical to your calculation above.\n",
    "\n",
    "> Note: there may be a small fractional difference (>0.001) between the two values due to a rounding error between implementations. "
   ]
  },
  {
   "cell_type": "code",
   "execution_count": 17,
   "metadata": {
    "ExecuteTime": {
     "end_time": "2020-08-07T03:12:34.478680Z",
     "start_time": "2020-08-07T03:12:34.439674Z"
    }
   },
   "outputs": [
    {
     "name": "stdout",
     "output_type": "stream",
     "text": [
      "               sum_sq    df         F    PR(>F)\n",
      "C(supp)    205.350000   1.0  3.668253  0.060393\n",
      "Residual  3246.859333  58.0       NaN       NaN\n"
     ]
    }
   ],
   "source": [
    "# Your code here; conduct an ANOVA F-test of the oj and vc supplement groups.\n",
    "# Compare the p-value to that of the t-test above. \n",
    "# They should match (there may be a tiny fractional difference due to rounding errors in varying implementations)\n",
    "formula2 = 'len ~ C(supp)'\n",
    "lm2 = ols(formula2, df).fit()\n",
    "table2 = sm.stats.anova_lm(lm2, typ=2)\n",
    "print(table2)"
   ]
  },
  {
   "cell_type": "markdown",
   "metadata": {},
   "source": [
    "## Run multiple t-tests\n",
    "\n",
    "While the 2-category ANOVA test is identical to a 2-tailed t-test, performing multiple t-tests leads to the multiple comparisons problem. To investigate this, look at the various sample groups you could create from the 2 features: "
   ]
  },
  {
   "cell_type": "code",
   "execution_count": 22,
   "metadata": {
    "ExecuteTime": {
     "end_time": "2020-08-07T03:17:39.194661Z",
     "start_time": "2020-08-07T03:17:39.181332Z"
    }
   },
   "outputs": [
    {
     "name": "stdout",
     "output_type": "stream",
     "text": [
      "('OJ', 0.5)\n",
      "('OJ', 1.0)\n",
      "('OJ', 2.0)\n",
      "('VC', 0.5)\n",
      "('VC', 1.0)\n",
      "('VC', 2.0)\n"
     ]
    }
   ],
   "source": [
    "for group in df.groupby(['supp', 'dose'])['len']:\n",
    "    group_name = group[0]\n",
    "    data = group[1]\n",
    "    print(group_name)\n",
    "    \n",
    "from itertools import combinations"
   ]
  },
  {
   "cell_type": "markdown",
   "metadata": {},
   "source": [
    "While bad practice, examine the effects of calculating multiple t-tests with the various combinations of these. To do this, generate all combinations of the above groups. For each pairwise combination, calculate the p-value of a 2-sided t-test. Print the group combinations and their associated p-value for the two-sided t-test."
   ]
  },
  {
   "cell_type": "code",
   "execution_count": 35,
   "metadata": {
    "ExecuteTime": {
     "end_time": "2020-08-07T04:02:58.714208Z",
     "start_time": "2020-08-07T04:02:58.702918Z"
    }
   },
   "outputs": [
    {
     "data": {
      "text/plain": [
       "[(('OJ', 0.5), ('OJ', 1.0)),\n",
       " (('OJ', 0.5), ('OJ', 2.0)),\n",
       " (('OJ', 0.5), ('VC', 0.5)),\n",
       " (('OJ', 0.5), ('VC', 1.0)),\n",
       " (('OJ', 0.5), ('VC', 2.0)),\n",
       " (('OJ', 1.0), ('OJ', 2.0)),\n",
       " (('OJ', 1.0), ('VC', 0.5)),\n",
       " (('OJ', 1.0), ('VC', 1.0)),\n",
       " (('OJ', 1.0), ('VC', 2.0)),\n",
       " (('OJ', 2.0), ('VC', 0.5)),\n",
       " (('OJ', 2.0), ('VC', 1.0)),\n",
       " (('OJ', 2.0), ('VC', 2.0)),\n",
       " (('VC', 0.5), ('VC', 1.0)),\n",
       " (('VC', 0.5), ('VC', 2.0)),\n",
       " (('VC', 1.0), ('VC', 2.0))]"
      ]
     },
     "execution_count": 35,
     "metadata": {},
     "output_type": "execute_result"
    }
   ],
   "source": [
    "# Your code here; reuse your t-test code above to calculate the p-value for a 2-sided t-test\n",
    "# for all combinations of the supplement-dose groups listed above. \n",
    "# (Since there isn't a control group, compare each group to every other group.)\n",
    "groups = [('OJ', 0.5),\n",
    "('OJ', 1.0),\n",
    "('OJ', 2.0),\n",
    "('VC', 0.5),\n",
    "('VC', 1.0),\n",
    "('VC', 2.0)]\n",
    "combos = list(combinations(groups, 2))\n",
    "combos\n",
    "\n",
    "    "
   ]
  },
  {
   "cell_type": "code",
   "execution_count": 30,
   "metadata": {
    "ExecuteTime": {
     "end_time": "2020-08-07T03:58:58.689260Z",
     "start_time": "2020-08-07T03:58:58.676064Z"
    }
   },
   "outputs": [
    {
     "data": {
      "text/plain": [
       "30    15.2\n",
       "31    21.5\n",
       "32    17.6\n",
       "33     9.7\n",
       "34    14.5\n",
       "35    10.0\n",
       "36     8.2\n",
       "37     9.4\n",
       "38    16.5\n",
       "39     9.7\n",
       "Name: len, dtype: float64"
      ]
     },
     "execution_count": 30,
     "metadata": {},
     "output_type": "execute_result"
    }
   ],
   "source": [
    "df.loc[(df.supp == 'OJ') & (df.dose == 0.5), 'len']"
   ]
  },
  {
   "cell_type": "code",
   "execution_count": 36,
   "metadata": {
    "ExecuteTime": {
     "end_time": "2020-08-07T04:03:33.850063Z",
     "start_time": "2020-08-07T04:03:33.748356Z"
    }
   },
   "outputs": [
    {
     "data": {
      "text/plain": [
       "[8.784919055160323e-05,\n",
       " 1.323783877626994e-06,\n",
       " 0.00635860676409683,\n",
       " 0.04601033257637566,\n",
       " 7.196253523966689e-06,\n",
       " 0.03919514204624397,\n",
       " 3.655206737285255e-08,\n",
       " 0.0010383758722998238,\n",
       " 0.09652612338267019,\n",
       " 1.3621326289126046e-11,\n",
       " 2.3610742028168374e-07,\n",
       " 0.9638515887233756,\n",
       " 6.811017703167721e-07,\n",
       " 4.681577414622495e-08,\n",
       " 9.155603056631989e-05]"
      ]
     },
     "execution_count": 36,
     "metadata": {},
     "output_type": "execute_result"
    }
   ],
   "source": [
    "df.loc[df.supp == 'OJ', 'len']\n",
    "pvals = []\n",
    "for combo in combos:\n",
    "    pval = p_value_welch_ttest(df.loc[(df.supp == combo[0][0]) & (df.dose == combo[0][1]),'len'], \n",
    "                               df.loc[(df.supp == combo[1][0]) & (df.dose == combo[1][1]), 'len'], \n",
    "                               two_sided=True)\n",
    "    pvals.append(pval)\n",
    "    \n",
    "pvals"
   ]
  },
  {
   "cell_type": "code",
   "execution_count": 37,
   "metadata": {
    "ExecuteTime": {
     "end_time": "2020-08-07T04:06:03.130157Z",
     "start_time": "2020-08-07T04:06:03.119117Z"
    }
   },
   "outputs": [
    {
     "data": {
      "text/plain": [
       "{(('OJ', 0.5), ('OJ', 1.0)): 8.784919055160323e-05,\n",
       " (('OJ', 0.5), ('OJ', 2.0)): 1.323783877626994e-06,\n",
       " (('OJ', 0.5), ('VC', 0.5)): 0.00635860676409683,\n",
       " (('OJ', 0.5), ('VC', 1.0)): 0.04601033257637566,\n",
       " (('OJ', 0.5), ('VC', 2.0)): 7.196253523966689e-06,\n",
       " (('OJ', 1.0), ('OJ', 2.0)): 0.03919514204624397,\n",
       " (('OJ', 1.0), ('VC', 0.5)): 3.655206737285255e-08,\n",
       " (('OJ', 1.0), ('VC', 1.0)): 0.0010383758722998238,\n",
       " (('OJ', 1.0), ('VC', 2.0)): 0.09652612338267019,\n",
       " (('OJ', 2.0), ('VC', 0.5)): 1.3621326289126046e-11,\n",
       " (('OJ', 2.0), ('VC', 1.0)): 2.3610742028168374e-07,\n",
       " (('OJ', 2.0), ('VC', 2.0)): 0.9638515887233756,\n",
       " (('VC', 0.5), ('VC', 1.0)): 6.811017703167721e-07,\n",
       " (('VC', 0.5), ('VC', 2.0)): 4.681577414622495e-08,\n",
       " (('VC', 1.0), ('VC', 2.0)): 9.155603056631989e-05}"
      ]
     },
     "execution_count": 37,
     "metadata": {},
     "output_type": "execute_result"
    }
   ],
   "source": [
    "two_test_pvals = dict(zip(combos, pvals))\n",
    "two_test_pvals"
   ]
  },
  {
   "cell_type": "markdown",
   "metadata": {},
   "source": [
    "## Summary\n",
    "\n",
    "In this lesson, you implemented the ANOVA technique to generalize testing methods to multiple groups and factors."
   ]
  }
 ],
 "metadata": {
  "kernelspec": {
   "display_name": "Python 3",
   "language": "python",
   "name": "python3"
  },
  "language_info": {
   "codemirror_mode": {
    "name": "ipython",
    "version": 3
   },
   "file_extension": ".py",
   "mimetype": "text/x-python",
   "name": "python",
   "nbconvert_exporter": "python",
   "pygments_lexer": "ipython3",
   "version": "3.6.9"
  },
  "toc": {
   "base_numbering": 1,
   "nav_menu": {},
   "number_sections": true,
   "sideBar": true,
   "skip_h1_title": false,
   "title_cell": "Table of Contents",
   "title_sidebar": "Contents",
   "toc_cell": false,
   "toc_position": {},
   "toc_section_display": true,
   "toc_window_display": false
  },
  "varInspector": {
   "cols": {
    "lenName": 16,
    "lenType": 16,
    "lenVar": 40
   },
   "kernels_config": {
    "python": {
     "delete_cmd_postfix": "",
     "delete_cmd_prefix": "del ",
     "library": "var_list.py",
     "varRefreshCmd": "print(var_dic_list())"
    },
    "r": {
     "delete_cmd_postfix": ") ",
     "delete_cmd_prefix": "rm(",
     "library": "var_list.r",
     "varRefreshCmd": "cat(var_dic_list()) "
    }
   },
   "types_to_exclude": [
    "module",
    "function",
    "builtin_function_or_method",
    "instance",
    "_Feature"
   ],
   "window_display": false
  }
 },
 "nbformat": 4,
 "nbformat_minor": 2
}
